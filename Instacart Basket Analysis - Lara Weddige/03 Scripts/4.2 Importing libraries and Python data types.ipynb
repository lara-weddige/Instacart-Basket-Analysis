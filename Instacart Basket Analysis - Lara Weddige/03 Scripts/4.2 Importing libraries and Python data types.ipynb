{
 "cells": [
  {
   "cell_type": "markdown",
   "id": "fef616fb",
   "metadata": {},
   "source": [
    "# Table of contents\n",
    "\n",
    "01. Importing libraries\n",
    "02. Data types\n",
    "03. Fun with numbers"
   ]
  },
  {
   "cell_type": "markdown",
   "id": "90bc1ddc",
   "metadata": {},
   "source": [
    "# 01. Importing libraries"
   ]
  },
  {
   "cell_type": "code",
   "execution_count": 1,
   "id": "c7a05cbc",
   "metadata": {},
   "outputs": [],
   "source": [
    "# Import libraries\n",
    "import pandas as pd\n",
    "import numpy as np\n",
    "import os"
   ]
  },
  {
   "cell_type": "markdown",
   "id": "155d4613",
   "metadata": {},
   "source": [
    "# 02. Data types"
   ]
  },
  {
   "cell_type": "code",
   "execution_count": 2,
   "id": "b388ebc3",
   "metadata": {},
   "outputs": [],
   "source": [
    "x = 2"
   ]
  },
  {
   "cell_type": "code",
   "execution_count": 3,
   "id": "da2a1ee1",
   "metadata": {},
   "outputs": [
    {
     "data": {
      "text/plain": [
       "2"
      ]
     },
     "execution_count": 3,
     "metadata": {},
     "output_type": "execute_result"
    }
   ],
   "source": [
    "x"
   ]
  },
  {
   "cell_type": "code",
   "execution_count": 4,
   "id": "d3728353",
   "metadata": {},
   "outputs": [
    {
     "name": "stdout",
     "output_type": "stream",
     "text": [
      "2\n"
     ]
    }
   ],
   "source": [
    "print(x)"
   ]
  },
  {
   "cell_type": "code",
   "execution_count": 5,
   "id": "3791f939",
   "metadata": {},
   "outputs": [
    {
     "data": {
      "text/plain": [
       "int"
      ]
     },
     "execution_count": 5,
     "metadata": {},
     "output_type": "execute_result"
    }
   ],
   "source": [
    "type(x)"
   ]
  },
  {
   "cell_type": "code",
   "execution_count": 7,
   "id": "74dc5535",
   "metadata": {},
   "outputs": [],
   "source": [
    "y = 5.678"
   ]
  },
  {
   "cell_type": "code",
   "execution_count": 8,
   "id": "0e9a460a",
   "metadata": {},
   "outputs": [
    {
     "data": {
      "text/plain": [
       "float"
      ]
     },
     "execution_count": 8,
     "metadata": {},
     "output_type": "execute_result"
    }
   ],
   "source": [
    "type(y)"
   ]
  },
  {
   "cell_type": "code",
   "execution_count": 10,
   "id": "af3aad28",
   "metadata": {},
   "outputs": [],
   "source": [
    "z = \"Brazil\""
   ]
  },
  {
   "cell_type": "code",
   "execution_count": 11,
   "id": "ae9c97d7",
   "metadata": {},
   "outputs": [
    {
     "data": {
      "text/plain": [
       "str"
      ]
     },
     "execution_count": 11,
     "metadata": {},
     "output_type": "execute_result"
    }
   ],
   "source": [
    "type(z)"
   ]
  },
  {
   "cell_type": "code",
   "execution_count": 12,
   "id": "9df268dd",
   "metadata": {},
   "outputs": [
    {
     "data": {
      "text/plain": [
       "str"
      ]
     },
     "execution_count": 12,
     "metadata": {},
     "output_type": "execute_result"
    }
   ],
   "source": [
    "type(\"mania\")"
   ]
  },
  {
   "cell_type": "code",
   "execution_count": 14,
   "id": "e16b2712",
   "metadata": {},
   "outputs": [
    {
     "data": {
      "text/plain": [
       "bool"
      ]
     },
     "execution_count": 14,
     "metadata": {},
     "output_type": "execute_result"
    }
   ],
   "source": [
    "type(True)"
   ]
  },
  {
   "cell_type": "code",
   "execution_count": 15,
   "id": "d6c52463",
   "metadata": {},
   "outputs": [
    {
     "data": {
      "text/plain": [
       "bool"
      ]
     },
     "execution_count": 15,
     "metadata": {},
     "output_type": "execute_result"
    }
   ],
   "source": [
    "type(False)"
   ]
  },
  {
   "cell_type": "code",
   "execution_count": 16,
   "id": "7a95b02f",
   "metadata": {},
   "outputs": [
    {
     "data": {
      "text/plain": [
       "6"
      ]
     },
     "execution_count": 16,
     "metadata": {},
     "output_type": "execute_result"
    }
   ],
   "source": [
    "x+4"
   ]
  },
  {
   "cell_type": "code",
   "execution_count": 17,
   "id": "72b5c819",
   "metadata": {},
   "outputs": [
    {
     "data": {
      "text/plain": [
       "7.678"
      ]
     },
     "execution_count": 17,
     "metadata": {},
     "output_type": "execute_result"
    }
   ],
   "source": [
    "x+y"
   ]
  },
  {
   "cell_type": "code",
   "execution_count": 18,
   "id": "0cde8db3",
   "metadata": {},
   "outputs": [],
   "source": [
    "x=x+4"
   ]
  },
  {
   "cell_type": "code",
   "execution_count": 19,
   "id": "3a8be2f2",
   "metadata": {},
   "outputs": [
    {
     "name": "stdout",
     "output_type": "stream",
     "text": [
      "6\n"
     ]
    }
   ],
   "source": [
    "print(x)"
   ]
  },
  {
   "cell_type": "code",
   "execution_count": 20,
   "id": "795242ed",
   "metadata": {},
   "outputs": [],
   "source": [
    "a=\"Hello, \""
   ]
  },
  {
   "cell_type": "code",
   "execution_count": 21,
   "id": "b18dbf50",
   "metadata": {},
   "outputs": [],
   "source": [
    "b=\"Marley\""
   ]
  },
  {
   "cell_type": "code",
   "execution_count": 22,
   "id": "95ff3139",
   "metadata": {},
   "outputs": [
    {
     "data": {
      "text/plain": [
       "'Hello, Marley'"
      ]
     },
     "execution_count": 22,
     "metadata": {},
     "output_type": "execute_result"
    }
   ],
   "source": [
    "a+b"
   ]
  },
  {
   "cell_type": "code",
   "execution_count": 23,
   "id": "abe844ad",
   "metadata": {},
   "outputs": [],
   "source": [
    "n=\"dumb\""
   ]
  },
  {
   "cell_type": "code",
   "execution_count": 24,
   "id": "5bdfaaaf",
   "metadata": {},
   "outputs": [
    {
     "data": {
      "text/plain": [
       "'dumbdumbdumbdumbdumbdumbdumbdumbdumbdumbdumbdumb'"
      ]
     },
     "execution_count": 24,
     "metadata": {},
     "output_type": "execute_result"
    }
   ],
   "source": [
    "n*12"
   ]
  },
  {
   "cell_type": "code",
   "execution_count": 25,
   "id": "b89567bd",
   "metadata": {},
   "outputs": [
    {
     "data": {
      "text/plain": [
       "False"
      ]
     },
     "execution_count": 25,
     "metadata": {},
     "output_type": "execute_result"
    }
   ],
   "source": [
    "x==y"
   ]
  },
  {
   "cell_type": "code",
   "execution_count": 26,
   "id": "eb99eaef",
   "metadata": {},
   "outputs": [
    {
     "data": {
      "text/plain": [
       "bool"
      ]
     },
     "execution_count": 26,
     "metadata": {},
     "output_type": "execute_result"
    }
   ],
   "source": [
    "type(x==y)"
   ]
  },
  {
   "cell_type": "markdown",
   "id": "cbdf66c8",
   "metadata": {},
   "source": [
    "# 03. More fun with numbers - assignment steps 7 and onwards"
   ]
  },
  {
   "cell_type": "code",
   "execution_count": 29,
   "id": "a4e2bd2f",
   "metadata": {},
   "outputs": [
    {
     "data": {
      "text/plain": [
       "100"
      ]
     },
     "execution_count": 29,
     "metadata": {},
     "output_type": "execute_result"
    }
   ],
   "source": [
    "10 * 10"
   ]
  },
  {
   "cell_type": "code",
   "execution_count": 30,
   "id": "cbef11af",
   "metadata": {},
   "outputs": [
    {
     "data": {
      "text/plain": [
       "100"
      ]
     },
     "execution_count": 30,
     "metadata": {},
     "output_type": "execute_result"
    }
   ],
   "source": [
    "90+10"
   ]
  },
  {
   "cell_type": "code",
   "execution_count": 31,
   "id": "b0a2a1c8",
   "metadata": {},
   "outputs": [
    {
     "data": {
      "text/plain": [
       "100.0"
      ]
     },
     "execution_count": 31,
     "metadata": {},
     "output_type": "execute_result"
    }
   ],
   "source": [
    "1000/10"
   ]
  },
  {
   "cell_type": "code",
   "execution_count": 32,
   "id": "89edf3be",
   "metadata": {},
   "outputs": [],
   "source": [
    "j=5.67"
   ]
  },
  {
   "cell_type": "code",
   "execution_count": 33,
   "id": "57baded3",
   "metadata": {},
   "outputs": [],
   "source": [
    "k=8.9"
   ]
  },
  {
   "cell_type": "code",
   "execution_count": 34,
   "id": "c28c9108",
   "metadata": {},
   "outputs": [
    {
     "data": {
      "text/plain": [
       "0.6370786516853932"
      ]
     },
     "execution_count": 34,
     "metadata": {},
     "output_type": "execute_result"
    }
   ],
   "source": [
    "j/k"
   ]
  },
  {
   "cell_type": "code",
   "execution_count": 36,
   "id": "d27680ea",
   "metadata": {},
   "outputs": [],
   "source": [
    "l=\"py\""
   ]
  },
  {
   "cell_type": "code",
   "execution_count": 37,
   "id": "6a6ba60f",
   "metadata": {},
   "outputs": [],
   "source": [
    "m=\"th\""
   ]
  },
  {
   "cell_type": "code",
   "execution_count": 38,
   "id": "9afbff72",
   "metadata": {},
   "outputs": [],
   "source": [
    "n=\"on\""
   ]
  },
  {
   "cell_type": "code",
   "execution_count": 39,
   "id": "46b350dc",
   "metadata": {},
   "outputs": [
    {
     "data": {
      "text/plain": [
       "'python'"
      ]
     },
     "execution_count": 39,
     "metadata": {},
     "output_type": "execute_result"
    }
   ],
   "source": [
    "l+m+n"
   ]
  },
  {
   "cell_type": "code",
   "execution_count": 40,
   "id": "727e89dc",
   "metadata": {},
   "outputs": [],
   "source": [
    "o=\"Once upon a time, there was a student, \""
   ]
  },
  {
   "cell_type": "code",
   "execution_count": 41,
   "id": "1c475f1d",
   "metadata": {},
   "outputs": [],
   "source": [
    "p=\"who learned how to code. \""
   ]
  },
  {
   "cell_type": "code",
   "execution_count": 42,
   "id": "1407ebff",
   "metadata": {},
   "outputs": [],
   "source": [
    "q=\"And she was genuinely \""
   ]
  },
  {
   "cell_type": "code",
   "execution_count": 47,
   "id": "3adcd42d",
   "metadata": {},
   "outputs": [],
   "source": [
    "r=\"surprised \""
   ]
  },
  {
   "cell_type": "code",
   "execution_count": 49,
   "id": "2ffb87ff",
   "metadata": {},
   "outputs": [],
   "source": [
    "s=\"how much she \""
   ]
  },
  {
   "cell_type": "code",
   "execution_count": 50,
   "id": "be47f3c6",
   "metadata": {},
   "outputs": [],
   "source": [
    "t=\"liked it!\""
   ]
  },
  {
   "cell_type": "code",
   "execution_count": 51,
   "id": "0cdaba57",
   "metadata": {},
   "outputs": [
    {
     "data": {
      "text/plain": [
       "'Once upon a time, there was a student, who learned how to code. And she was genuinely surprised how much she liked it!'"
      ]
     },
     "execution_count": 51,
     "metadata": {},
     "output_type": "execute_result"
    }
   ],
   "source": [
    "o+p+q+r+s+t"
   ]
  },
  {
   "cell_type": "code",
   "execution_count": 52,
   "id": "f5a5b874",
   "metadata": {},
   "outputs": [],
   "source": [
    "u=\"smart\""
   ]
  },
  {
   "cell_type": "code",
   "execution_count": 53,
   "id": "25f4a627",
   "metadata": {},
   "outputs": [
    {
     "data": {
      "text/plain": [
       "'smartsmartsmartsmartsmartsmartsmartsmartsmartsmartsmartsmartsmartsmartsmartsmartsmartsmartsmartsmartsmartsmartsmartsmartsmartsmartsmartsmartsmartsmartsmartsmartsmartsmartsmartsmartsmartsmartsmartsmartsmartsmartsmartsmartsmartsmartsmartsmartsmartsmartsmartsmartsmartsmartsmartsmartsmartsmartsmartsmartsmartsmartsmartsmartsmartsmartsmartsmartsmartsmartsmartsmartsmartsmartsmartsmartsmartsmartsmartsmartsmartsmartsmartsmartsmartsmartsmartsmartsmartsmartsmartsmartsmartsmartsmartsmartsmartsmartsmartsmart'"
      ]
     },
     "execution_count": 53,
     "metadata": {},
     "output_type": "execute_result"
    }
   ],
   "source": [
    "u*100"
   ]
  },
  {
   "cell_type": "code",
   "execution_count": null,
   "id": "9b53ba9b",
   "metadata": {},
   "outputs": [],
   "source": []
  }
 ],
 "metadata": {
  "kernelspec": {
   "display_name": "Python 3 (ipykernel)",
   "language": "python",
   "name": "python3"
  },
  "language_info": {
   "codemirror_mode": {
    "name": "ipython",
    "version": 3
   },
   "file_extension": ".py",
   "mimetype": "text/x-python",
   "name": "python",
   "nbconvert_exporter": "python",
   "pygments_lexer": "ipython3",
   "version": "3.11.5"
  }
 },
 "nbformat": 4,
 "nbformat_minor": 5
}
